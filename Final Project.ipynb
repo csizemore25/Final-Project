{
 "cells": [
  {
   "cell_type": "markdown",
   "id": "b0667833",
   "metadata": {},
   "source": [
    "# Final Project - Sorting Hat \n",
    "\n",
    "## Caitlin Sizemore \n",
    "\n",
    "### CS 150-01 Fall 2022"
   ]
  },
  {
   "cell_type": "code",
   "execution_count": null,
   "id": "1ce38770",
   "metadata": {},
   "outputs": [
    {
     "name": "stdout",
     "output_type": "stream",
     "text": [
      "Question 1. How would you describe yourself?\n",
      "(a) brave (b) ambitious (c) witty (d) loyal\n",
      "d\n",
      "Question 2. Which class are you most looking forward to?\n",
      "(a) Transfiguration (b) Potions (c) Charms (d) Herbology\n",
      "a\n",
      "Question 3. Which superpower would you choose?\n",
      "(a) Super strength (b) Shapeshifting (c) Telepathy (d) Teleportation\n",
      "d\n",
      "Question 4. What would you do with Hagrid's dragon?\n",
      "(a) Raise it yourself (b) Tell Dumbledore (c) Report it to the Ministry of Magic (d) Let it go\n",
      "d\n",
      "Question 5. What do you want to be when you graduate Hogwarts?\n",
      "(a) Auror (b) Minister of Magic (c) Professor at Hogwarts (d) Magizoologist\n",
      "c\n",
      "Question 6. Your friend is in danger! What do you do?\n",
      "(a) Rush in and help! (b) Hesitate - what do you get if you help them? (c) Formulate a plan and act. (d) Run and \n",
      " get help - the more the better!\n",
      "a\n",
      "Question 7. How do you react when someone is treating you badly?\n",
      "(a) Take action immediately and boldly (b) Get revenge (c) Think carefully and respond accordingly (d) Try and see what's bothering them - why are they lashing out at you?\n"
     ]
    }
   ],
   "source": [
    "class Question:\n",
    "    def __init__(self, question, mc_options):\n",
    "        self.question=question\n",
    "        self.mc_options=mc_options\n",
    "    # holds question and answers\n",
    "    def inputs(self):\n",
    "        return '{'+ self.question +', '+ self.mc_options +'}'\n",
    "\n",
    "#list calls class for question and potential answers\n",
    "quizQuestions = [\n",
    "Question(\"Question 1. How would you describe yourself\", [\"(a) brave (b) ambitious (c) witty (d) loyal\"]), \n",
    "Question(\"Question 2. Which class are you most looking forward to\", [\"(a) Transfiguration (b) Potions (c) Charms (d) Herbology\"]), \n",
    "Question(\"Question 3. Which superpower would you choose\", [\"(a) Super strength (b) Shapeshifting (c) Telepathy (d) Teleportation\"]), \n",
    "Question(\"Question 4. What would you do with Hagrid's dragon\", [\"(a) Raise it yourself (b) Tell Dumbledore (c) Report it to the Ministry of Magic (d) Let it go\"]), \n",
    "Question(\"Question 5. What do you want to be when you graduate Hogwarts\", [\"(a) Auror (b) Minister of Magic (c) Professor at Hogwarts (d) Magizoologist\"]), \n",
    "Question(\"Question 6. Your friend is in danger! What do you do\", [\"(a) Rush in and help! (b) Hesitate - what do you get if you help them? (c) Formulate a plan and act. (d) Run and \\n get help - the more the better!\"]), \n",
    "Question(\"Question 7. How do you react when someone is treating you badly\", [\"(a) Take action immediately and boldly (b) Get revenge (c) Think carefully and respond accordingly (d) Try and see what's bothering them - why are they lashing out at you?\"]), \n",
    "Question(\"Question 8. What Quidditch position sounds totally awesome\", [\"(a) Beater (b) Seeker (c) Chaser (d) Keeper\"]),\n",
    "Question(\"Question 9. If you could invent a potion that guarentees one thing, which would it be\", [\"(a) Glory (b) Power (c) Wisdom (d) Love\"])\n",
    "]\n",
    "\n",
    "active=True\n",
    "while active:\n",
    "    # scoring - each house set to 0 points\n",
    "    gryffindor=0\n",
    "    slytherin=0\n",
    "    ravenclaw=0\n",
    "    hufflepuff=0\n",
    "    #prints questions and options \n",
    "    for question in quizQuestions:\n",
    "        print(f\"{question.question}?\")\n",
    "        for option in question.mc_options:\n",
    "            print(option)\n",
    "            #user input for your own answer\n",
    "            userInput = input()\n",
    "\n",
    "        # scoring - adds 1 point based upon your answer \n",
    "        if userInput==\"a\": \n",
    "            gryffindor+=1\n",
    "        elif userInput==\"b\": \n",
    "            slytherin+=1\n",
    "        elif userInput==\"c\": \n",
    "            ravenclaw+=1\n",
    "        else:\n",
    "            hufflepuff+=1\n",
    "    \n",
    "    #compares # of points in each house and returns the house with the most points \n",
    "    if gryffindor>slytherin and gryffindor>ravenclaw and gryffindor>hufflepuff: \n",
    "        print(\"You are a Gryffindor!\")\n",
    "    elif slytherin>gryffindor and slytherin>ravenclaw and slytherin>hufflepuff: \n",
    "        print(\"You are a Slytherin!\")\n",
    "    elif ravenclaw>gryffindor and ravenclaw>slytherin and ravenclaw>hufflepuff: \n",
    "        print(\"You are a Ravenclaw!\")\n",
    "    else: \n",
    "        print(\"You are a Hufflepuff!\")\n",
    "\n",
    "    break"
   ]
  },
  {
   "cell_type": "code",
   "execution_count": null,
   "id": "c7bbd39c",
   "metadata": {},
   "outputs": [],
   "source": []
  }
 ],
 "metadata": {
  "kernelspec": {
   "display_name": "Python 3 (ipykernel)",
   "language": "python",
   "name": "python3"
  },
  "language_info": {
   "codemirror_mode": {
    "name": "ipython",
    "version": 3
   },
   "file_extension": ".py",
   "mimetype": "text/x-python",
   "name": "python",
   "nbconvert_exporter": "python",
   "pygments_lexer": "ipython3",
   "version": "3.9.12"
  }
 },
 "nbformat": 4,
 "nbformat_minor": 5
}
